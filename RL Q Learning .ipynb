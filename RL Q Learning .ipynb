{
 "cells": [
  {
   "cell_type": "markdown",
   "metadata": {},
   "source": [
    "# Libraries"
   ]
  },
  {
   "cell_type": "code",
   "execution_count": 1,
   "metadata": {},
   "outputs": [
    {
     "name": "stdout",
     "output_type": "stream",
     "text": [
      "pygame 1.9.6\n",
      "Hello from the pygame community. https://www.pygame.org/contribute.html\n"
     ]
    }
   ],
   "source": [
    "import numpy as np \n",
    "import tensorflow as tf \n",
    "import gym \n",
    "from gym import wrappers\n",
    "import pygame \n",
    "from gym.utils import play # manual play \n",
    "import matplotlib.pyplot as plt \n",
    "import seaborn as sns \n",
    "import io\n",
    "import base64\n",
    "from IPython.display import HTML\n",
    "import random\n",
    "from IPython.display import clear_output"
   ]
  },
  {
   "cell_type": "markdown",
   "metadata": {},
   "source": [
    "# Constants "
   ]
  },
  {
   "cell_type": "code",
   "execution_count": 2,
   "metadata": {},
   "outputs": [],
   "source": [
    "ATARI_GAME = \"BreakoutDeterministic-v4\" # Frame skip set to 4 default \n",
    "NUM_OF_EPISODES = 10 "
   ]
  },
  {
   "cell_type": "markdown",
   "metadata": {},
   "source": [
    "# Open AI Gym Environment Setup"
   ]
  },
  {
   "cell_type": "code",
   "execution_count": 3,
   "metadata": {},
   "outputs": [],
   "source": [
    "env = gym.make(ATARI_GAME)\n",
    "env = wrappers.Monitor(env, \"./gym-results\", force=True) # Cache game\n",
    "\n",
    "# # Uncomment line below to play the game as a human\n",
    "# #play.play(env, zoom=3)\n",
    "\n",
    "# Let the environment play, by taking random actions at each timestep\n",
    "for episode in range(NUM_OF_EPISODES): \n",
    "    env.reset()\n",
    "    while True: \n",
    "        random_action = env.action_space.sample() \n",
    "        observation, reward, is_done, info = env.step(random_action)\n",
    "        if is_done:\n",
    "            break \n",
    "env.close() "
   ]
  },
  {
   "cell_type": "markdown",
   "metadata": {},
   "source": [
    "# Display offline mp4 simulation\n",
    "Source: https://kyso.io/eoin/openai-gym-jupyter?utm_campaign=News&utm_medium=Community&utm_source=DataCamp.com"
   ]
  },
  {
   "cell_type": "code",
   "execution_count": 4,
   "metadata": {},
   "outputs": [
    {
     "data": {
      "text/html": [
       "\n",
       "    <video width=\"360\" height=\"auto\" alt=\"test\" controls><source src=\"data:video/mp4;base64,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\" type=\"video/mp4\" /></video>"
      ],
      "text/plain": [
       "<IPython.core.display.HTML object>"
      ]
     },
     "execution_count": 4,
     "metadata": {},
     "output_type": "execute_result"
    }
   ],
   "source": [
    "video = io.open('./gym-results/openaigym.video.%s.video000000.mp4' % env.file_infix, 'r+b').read()\n",
    "encoded = base64.b64encode(video)\n",
    "HTML(data='''\n",
    "    <video width=\"360\" height=\"auto\" alt=\"test\" controls><source src=\"data:video/mp4;base64,{0}\" type=\"video/mp4\" /></video>'''\n",
    ".format(encoded.decode('ascii')))"
   ]
  },
  {
   "cell_type": "markdown",
   "metadata": {},
   "source": [
    "# Q Learning Example "
   ]
  },
  {
   "cell_type": "code",
   "execution_count": 5,
   "metadata": {},
   "outputs": [
    {
     "name": "stdout",
     "output_type": "stream",
     "text": [
      "Action space: 4\n",
      " State space: 16\n",
      " Actions: {'LEFT': 0, 'DOWN': 1, 'RIGHT': 2, 'UP': 3}\n",
      "\n",
      "***** Average reward per thousand episodes ***** \n",
      "\n",
      "1000: 0.0\n",
      "2000: 0.0\n",
      "3000: 0.0\n",
      "4000: 0.0\n",
      "5000: 0.0\n",
      "6000: 0.0\n",
      "7000: 0.0\n",
      "8000: 0.0\n",
      "9000: 0.0\n",
      "10000: 0.0\n",
      "\n",
      "\n",
      " ***** Q-table \n",
      "\n",
      "[[0. 0. 0. 0.]\n",
      " [0. 0. 0. 0.]\n",
      " [0. 0. 0. 0.]\n",
      " [0. 0. 0. 0.]\n",
      " [0. 0. 0. 0.]\n",
      " [0. 0. 0. 0.]\n",
      " [0. 0. 0. 0.]\n",
      " [0. 0. 0. 0.]\n",
      " [0. 0. 0. 0.]\n",
      " [0. 0. 0. 0.]\n",
      " [0. 0. 0. 0.]\n",
      " [0. 0. 0. 0.]\n",
      " [0. 0. 0. 0.]\n",
      " [0. 0. 0. 0.]\n",
      " [0. 0. 0. 0.]\n",
      " [0. 0. 0. 0.]]\n"
     ]
    }
   ],
   "source": [
    "env = gym.make('FrozenLake-v0') \n",
    "\n",
    "actions = { \"LEFT\": 0, \"DOWN\": 1, \"RIGHT\": 2, \"UP\": 3 } \n",
    "action_space_size = env.action_space.n\n",
    "state_space_size = env.observation_space.n # positions \n",
    "print(f\"Action space: {action_space_size}\\n State space: {state_space_size}\\n Actions: {actions}\")\n",
    "\n",
    "q_table = np.zeros((state_space_size, action_space_size))\n",
    "\n",
    "# Hyper parameters \n",
    "NUM_EPISODES = 10000 # Games played \n",
    "MAX_STEPS_PER_EPISODE = 100 \n",
    "LEARNING_RATE = 0.1 \n",
    "DISCOUNT_RATE = 0.9\n",
    "\n",
    "EXPLORATION_RATE = 1\n",
    "MAX_EXPLORATION_RATE = 1 \n",
    "MIN_EXPLORATION_RATE = 0.01 \n",
    "EXPLORATION_DECAY_RATE = 0.01 \n",
    "rewards_all_episodes = []\n",
    "\n",
    "# Q learning algorithm\n",
    "for episode in range(NUM_EPISODES): \n",
    "    state = env.reset() \n",
    "    is_done = False \n",
    "    rewards_current_episode = 0 \n",
    "    \n",
    "    for step in range(MAX_STEPS_PER_EPISODE): \n",
    "        \n",
    "        # Explore exploit trade-off to pick action \n",
    "        exploration_rate_threshold = random.uniform(0, 1)\n",
    "        if exploration_rate_threshold > EXPLORATION_RATE: \n",
    "            action = np.argmax(q_table[state, :]) # exploit \n",
    "        else: \n",
    "            action = env.action_space.sample() # explore \n",
    "            \n",
    "        new_state, reward, is_done, _ = env.step(action)\n",
    "        \n",
    "        # Q Update: Q_new(s,a) = (1 - alpha) * Q_old (s, a) + alpha * [r + y * max_a' Q(s', a')]\n",
    "        q_table[state, action] = (1 - LEARNING_RATE) * q_table[state, action] + \\\n",
    "            LEARNING_RATE * (reward + DISCOUNT_RATE * np.max(q_table[new_state, :]) )\n",
    "        \n",
    "        state = new_state \n",
    "        rewards_current_episode += reward \n",
    "        \n",
    "        if is_done == True:\n",
    "            break \n",
    "    \n",
    "    EXPLORATION_RATE = MIN_EXPLORATION_RATE + (MAX_EXPLORATION_RATE - MIN_EXPLORATION_RATE) * np.exp(-EXPLORATION_DECAY_RATE * episode)\n",
    "    rewards_all_episodes.append(rewards_current_episode)\n",
    "env.close() \n",
    "\n",
    "# # Calculate and print average reward per thousand episodes\n",
    "rewards_per_thousand_episodes = np.split(np.array(rewards_all_episodes), NUM_EPISODES / 1000)\n",
    "count = 1000\n",
    "print(\"\\n***** Average reward per thousand episodes ***** \\n\")\n",
    "for r in rewards_per_thousand_episodes:\n",
    "    print(f\"{count}: {str(sum(r/10000))}\")\n",
    "    count += 1000\n",
    "\n",
    "# # Print updated Q-table\n",
    "print(\"\\n\\n ***** Q-table \\n\")\n",
    "print(q_table)"
   ]
  },
  {
   "cell_type": "code",
   "execution_count": null,
   "metadata": {},
   "outputs": [],
   "source": []
  }
 ],
 "metadata": {
  "kernelspec": {
   "display_name": "Python 3",
   "language": "python",
   "name": "python3"
  },
  "language_info": {
   "codemirror_mode": {
    "name": "ipython",
    "version": 3
   },
   "file_extension": ".py",
   "mimetype": "text/x-python",
   "name": "python",
   "nbconvert_exporter": "python",
   "pygments_lexer": "ipython3",
   "version": "3.7.2"
  }
 },
 "nbformat": 4,
 "nbformat_minor": 2
}
